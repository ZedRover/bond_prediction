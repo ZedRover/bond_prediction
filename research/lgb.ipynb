{
 "cells": [
  {
   "cell_type": "code",
   "execution_count": 42,
   "metadata": {},
   "outputs": [],
   "source": [
    "import lightgbm as lgb\n",
    "import pandas as pd\n",
    "import numpy as np\n",
    "from sklearn.model_selection import train_test_split"
   ]
  },
  {
   "cell_type": "code",
   "execution_count": 11,
   "metadata": {},
   "outputs": [],
   "source": [
    "X = pd.read_csv('../data/insample_clean.csv',index_col=0)\n",
    "y = pd.read_csv('../data/Y.csv',index_col=0)[:-1]\n",
    "index = sorted(list(set(X.index) & set(y.index)))\n",
    "X = X.loc[index,:]\n",
    "y = y.loc[index,:]\n",
    "assert len(X) == len(y)"
   ]
  },
  {
   "cell_type": "code",
   "execution_count": 155,
   "metadata": {},
   "outputs": [
    {
     "name": "stdout",
     "output_type": "stream",
     "text": [
      "[1]\tvalid_0's auc: 0.513021\tvalid_0's l2: 0.000664282\n",
      "[2]\tvalid_0's auc: 0.512858\tvalid_0's l2: 0.000664287\n",
      "[3]\tvalid_0's auc: 0.492513\tvalid_0's l2: 0.000664242\n",
      "[4]\tvalid_0's auc: 0.530599\tvalid_0's l2: 0.000664222\n",
      "[5]\tvalid_0's auc: 0.541504\tvalid_0's l2: 0.000664195\n",
      "[6]\tvalid_0's auc: 0.546712\tvalid_0's l2: 0.000664174\n",
      "[7]\tvalid_0's auc: 0.540202\tvalid_0's l2: 0.000664216\n",
      "[8]\tvalid_0's auc: 0.544108\tvalid_0's l2: 0.000664277\n",
      "[9]\tvalid_0's auc: 0.547526\tvalid_0's l2: 0.000664306\n",
      "[10]\tvalid_0's auc: 0.547038\tvalid_0's l2: 0.000664304\n",
      "[11]\tvalid_0's auc: 0.548991\tvalid_0's l2: 0.000664301\n",
      "[12]\tvalid_0's auc: 0.548014\tvalid_0's l2: 0.000664292\n",
      "[13]\tvalid_0's auc: 0.548991\tvalid_0's l2: 0.000664261\n",
      "[14]\tvalid_0's auc: 0.538574\tvalid_0's l2: 0.00066423\n",
      "[15]\tvalid_0's auc: 0.536296\tvalid_0's l2: 0.000664217\n",
      "[16]\tvalid_0's auc: 0.532389\tvalid_0's l2: 0.000664256\n",
      "[17]\tvalid_0's auc: 0.525716\tvalid_0's l2: 0.00066429\n",
      "[18]\tvalid_0's auc: 0.525716\tvalid_0's l2: 0.000664308\n",
      "[19]\tvalid_0's auc: 0.530924\tvalid_0's l2: 0.000664252\n",
      "[20]\tvalid_0's auc: 0.534831\tvalid_0's l2: 0.000664197\n",
      "[21]\tvalid_0's auc: 0.536133\tvalid_0's l2: 0.000664186\n",
      "[22]\tvalid_0's auc: 0.542643\tvalid_0's l2: 0.000664147\n",
      "[23]\tvalid_0's auc: 0.541016\tvalid_0's l2: 0.000664129\n",
      "[24]\tvalid_0's auc: 0.542318\tvalid_0's l2: 0.000664094\n",
      "[25]\tvalid_0's auc: 0.541667\tvalid_0's l2: 0.000664075\n",
      "[26]\tvalid_0's auc: 0.543294\tvalid_0's l2: 0.000664104\n",
      "[27]\tvalid_0's auc: 0.543294\tvalid_0's l2: 0.000664085\n",
      "[28]\tvalid_0's auc: 0.533529\tvalid_0's l2: 0.00066409\n",
      "[29]\tvalid_0's auc: 0.532227\tvalid_0's l2: 0.000664063\n",
      "[30]\tvalid_0's auc: 0.528646\tvalid_0's l2: 0.000664025\n",
      "[31]\tvalid_0's auc: 0.529622\tvalid_0's l2: 0.000664036\n",
      "[32]\tvalid_0's auc: 0.524089\tvalid_0's l2: 0.000664037\n",
      "[33]\tvalid_0's auc: 0.523112\tvalid_0's l2: 0.000664048\n",
      "[34]\tvalid_0's auc: 0.527344\tvalid_0's l2: 0.000664007\n",
      "[35]\tvalid_0's auc: 0.533203\tvalid_0's l2: 0.000663966\n",
      "[36]\tvalid_0's auc: 0.536784\tvalid_0's l2: 0.000663912\n",
      "[37]\tvalid_0's auc: 0.536784\tvalid_0's l2: 0.000663883\n",
      "[38]\tvalid_0's auc: 0.536133\tvalid_0's l2: 0.000663838\n",
      "[39]\tvalid_0's auc: 0.533854\tvalid_0's l2: 0.00066381\n",
      "[40]\tvalid_0's auc: 0.540365\tvalid_0's l2: 0.00066383\n",
      "[41]\tvalid_0's auc: 0.54069\tvalid_0's l2: 0.00066385\n",
      "[42]\tvalid_0's auc: 0.541341\tvalid_0's l2: 0.00066387\n",
      "[43]\tvalid_0's auc: 0.540039\tvalid_0's l2: 0.000663878\n",
      "[44]\tvalid_0's auc: 0.543294\tvalid_0's l2: 0.000663852\n",
      "[45]\tvalid_0's auc: 0.542969\tvalid_0's l2: 0.000663821\n",
      "[46]\tvalid_0's auc: 0.546549\tvalid_0's l2: 0.000663831\n",
      "[47]\tvalid_0's auc: 0.546224\tvalid_0's l2: 0.000663844\n",
      "[48]\tvalid_0's auc: 0.541992\tvalid_0's l2: 0.000663877\n",
      "[49]\tvalid_0's auc: 0.544596\tvalid_0's l2: 0.000663863\n",
      "[50]\tvalid_0's auc: 0.546224\tvalid_0's l2: 0.00066383\n",
      "[51]\tvalid_0's auc: 0.547852\tvalid_0's l2: 0.000663797\n",
      "[52]\tvalid_0's auc: 0.548177\tvalid_0's l2: 0.000663769\n",
      "[53]\tvalid_0's auc: 0.551107\tvalid_0's l2: 0.000663743\n",
      "[54]\tvalid_0's auc: 0.545247\tvalid_0's l2: 0.000663709\n",
      "[55]\tvalid_0's auc: 0.545573\tvalid_0's l2: 0.000663727\n",
      "[56]\tvalid_0's auc: 0.547201\tvalid_0's l2: 0.000663745\n",
      "[57]\tvalid_0's auc: 0.551107\tvalid_0's l2: 0.000663764\n",
      "[58]\tvalid_0's auc: 0.545898\tvalid_0's l2: 0.000663769\n",
      "[59]\tvalid_0's auc: 0.547201\tvalid_0's l2: 0.000663749\n",
      "[60]\tvalid_0's auc: 0.545898\tvalid_0's l2: 0.000663757\n",
      "[61]\tvalid_0's auc: 0.548828\tvalid_0's l2: 0.000663727\n",
      "[62]\tvalid_0's auc: 0.552734\tvalid_0's l2: 0.000663685\n",
      "[63]\tvalid_0's auc: 0.550456\tvalid_0's l2: 0.000663694\n",
      "[64]\tvalid_0's auc: 0.547526\tvalid_0's l2: 0.000663724\n",
      "[65]\tvalid_0's auc: 0.542643\tvalid_0's l2: 0.000663789\n",
      "[66]\tvalid_0's auc: 0.541667\tvalid_0's l2: 0.000663819\n",
      "[67]\tvalid_0's auc: 0.541667\tvalid_0's l2: 0.000663819\n",
      "[68]\tvalid_0's auc: 0.545573\tvalid_0's l2: 0.000663757\n",
      "[69]\tvalid_0's auc: 0.544271\tvalid_0's l2: 0.000663732\n",
      "[70]\tvalid_0's auc: 0.541667\tvalid_0's l2: 0.000663733\n",
      "[71]\tvalid_0's auc: 0.545573\tvalid_0's l2: 0.000663702\n",
      "[72]\tvalid_0's auc: 0.539388\tvalid_0's l2: 0.000663722\n",
      "[73]\tvalid_0's auc: 0.541667\tvalid_0's l2: 0.000663735\n",
      "[74]\tvalid_0's auc: 0.542318\tvalid_0's l2: 0.00066376\n",
      "[75]\tvalid_0's auc: 0.543294\tvalid_0's l2: 0.000663793\n",
      "[76]\tvalid_0's auc: 0.54362\tvalid_0's l2: 0.000663758\n",
      "[77]\tvalid_0's auc: 0.543945\tvalid_0's l2: 0.000663709\n",
      "[78]\tvalid_0's auc: 0.545247\tvalid_0's l2: 0.000663656\n",
      "[79]\tvalid_0's auc: 0.544922\tvalid_0's l2: 0.000663655\n",
      "[80]\tvalid_0's auc: 0.54362\tvalid_0's l2: 0.000663663\n",
      "[81]\tvalid_0's auc: 0.544922\tvalid_0's l2: 0.000663661\n",
      "[82]\tvalid_0's auc: 0.542969\tvalid_0's l2: 0.000663647\n",
      "[83]\tvalid_0's auc: 0.54362\tvalid_0's l2: 0.000663604\n",
      "[84]\tvalid_0's auc: 0.543294\tvalid_0's l2: 0.000663561\n",
      "[85]\tvalid_0's auc: 0.538411\tvalid_0's l2: 0.000663625\n",
      "[86]\tvalid_0's auc: 0.535807\tvalid_0's l2: 0.00066371\n",
      "[87]\tvalid_0's auc: 0.533203\tvalid_0's l2: 0.000663774\n",
      "[88]\tvalid_0's auc: 0.531901\tvalid_0's l2: 0.00066378\n",
      "[89]\tvalid_0's auc: 0.530599\tvalid_0's l2: 0.000663779\n",
      "[90]\tvalid_0's auc: 0.530924\tvalid_0's l2: 0.000663786\n",
      "[91]\tvalid_0's auc: 0.53125\tvalid_0's l2: 0.000663788\n",
      "[92]\tvalid_0's auc: 0.52832\tvalid_0's l2: 0.000663829\n",
      "[93]\tvalid_0's auc: 0.529948\tvalid_0's l2: 0.000663803\n",
      "[94]\tvalid_0's auc: 0.527018\tvalid_0's l2: 0.000663805\n",
      "[95]\tvalid_0's auc: 0.525391\tvalid_0's l2: 0.000663807\n",
      "[96]\tvalid_0's auc: 0.527669\tvalid_0's l2: 0.000663799\n",
      "[97]\tvalid_0's auc: 0.529948\tvalid_0's l2: 0.000663789\n",
      "[98]\tvalid_0's auc: 0.527018\tvalid_0's l2: 0.000663789\n",
      "[99]\tvalid_0's auc: 0.522461\tvalid_0's l2: 0.000663789\n",
      "[100]\tvalid_0's auc: 0.527669\tvalid_0's l2: 0.000663772\n"
     ]
    }
   ],
   "source": [
    "X_train, X_test, y_train, y_test = train_test_split(X, y, test_size=0.3)\n",
    "train_data = lgb.Dataset(X_train, label=y_train)\n",
    "validation_data = lgb.Dataset(X_test, label=y_test)\n",
    "params = {\n",
    "    'learning_rate': 0.001,\n",
    "    'lambda_l1': 0.2,\n",
    "    'lambda_l2': 0.2,\n",
    "    'metric': {'l2', 'auc'},\n",
    "    'max_bin': 300,\n",
    "    'max_depth': 4,\n",
    "    'num_leaves': 4,\n",
    "    'objective': 'regression',  # 目标函数\n",
    "    'feature_fraction': 0.7,  # 建树的特征选择比例\n",
    "    'bagging_fraction': 0.8,  # 建树的样本采样比例\n",
    "    'bagging_freq': 3,  # k 意味着每 k 次迭代执行bagging\n",
    "    'verbose': -1  # <0 显示致命的, =0 显示错误 (警告), >0 显示信息\n",
    "}\n",
    "\n",
    "gbm = lgb.train(params, train_data, valid_sets=[validation_data])"
   ]
  },
  {
   "cell_type": "code",
   "execution_count": 156,
   "metadata": {},
   "outputs": [
    {
     "data": {
      "text/plain": [
       "0.7505015031168238"
      ]
     },
     "execution_count": 156,
     "metadata": {},
     "output_type": "execute_result"
    }
   ],
   "source": [
    "from scipy.stats import pearsonr\n",
    "y_train_pred = gbm.predict(X_train)\n",
    "pearsonr(y_train_pred, y_train.values.flatten())[0]"
   ]
  },
  {
   "cell_type": "code",
   "execution_count": 157,
   "metadata": {},
   "outputs": [
    {
     "data": {
      "text/plain": [
       "0.03928008506202924"
      ]
     },
     "execution_count": 157,
     "metadata": {},
     "output_type": "execute_result"
    }
   ],
   "source": [
    "y_test_pred = gbm.predict(X_test)\n",
    "pearsonr(y_test.values.flatten(), y_test_pred)[0]"
   ]
  },
  {
   "cell_type": "code",
   "execution_count": null,
   "metadata": {},
   "outputs": [],
   "source": []
  },
  {
   "cell_type": "code",
   "execution_count": null,
   "metadata": {},
   "outputs": [],
   "source": []
  }
 ],
 "metadata": {
  "interpreter": {
   "hash": "c6e4e9f98eb68ad3b7c296f83d20e6de614cb42e90992a65aa266555a3137d0d"
  },
  "kernelspec": {
   "display_name": "Python 3.9.10 ('base')",
   "language": "python",
   "name": "python3"
  },
  "language_info": {
   "codemirror_mode": {
    "name": "ipython",
    "version": 3
   },
   "file_extension": ".py",
   "mimetype": "text/x-python",
   "name": "python",
   "nbconvert_exporter": "python",
   "pygments_lexer": "ipython3",
   "version": "3.9.10"
  },
  "orig_nbformat": 4
 },
 "nbformat": 4,
 "nbformat_minor": 2
}
